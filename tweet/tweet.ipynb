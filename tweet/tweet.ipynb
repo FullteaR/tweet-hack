{
 "cells": [
  {
   "cell_type": "code",
   "execution_count": 1,
   "metadata": {},
   "outputs": [],
   "source": [
    "import tweepy\n",
    "from tqdm.auto import tqdm\n",
    "import time"
   ]
  },
  {
   "cell_type": "code",
   "execution_count": 2,
   "metadata": {},
   "outputs": [],
   "source": [
    "consumer_key=\"SIJrRPlLOg7DELHvFb1zIiNVy\"\n",
    "consumer_secret=\"v8lLcwlrg9k3rJtMkFKkrVfBVlPAWV9N8cyBCEHwMy3GdwLjnq\"\n",
    "access_token=\"707943563229704192-nEBwRR3efd6QJBOlxzlWxzZmlG0TSjy\"\n",
    "access_token_secret=\"bcyU1Dt9EaFqx9NDFCoj7gnVt3KLBVJMLQ0TG6vfUmKDD\""
   ]
  },
  {
   "cell_type": "code",
   "execution_count": 3,
   "metadata": {},
   "outputs": [],
   "source": [
    "auth=tweepy.OAuthHandler(consumer_key, consumer_secret)\n",
    "auth.set_access_token(access_token, access_token_secret)\n",
    "api=tweepy.API(auth)"
   ]
  },
  {
   "cell_type": "code",
   "execution_count": 4,
   "metadata": {},
   "outputs": [
    {
     "name": "stdout",
     "output_type": "stream",
     "text": [
      "Status(_api=<tweepy.api.API object at 0x7fb712398ef0>, _json={'created_at': 'Fri Oct 16 20:36:10 +0000 2020', 'id': 1317202696961622016, 'id_str': '1317202696961622016', 'text': '寝れねぇ', 'truncated': False, 'entities': {'hashtags': [], 'symbols': [], 'user_mentions': [], 'urls': []}, 'source': '<a href=\"http://twitter.com/download/iphone\" rel=\"nofollow\">Twitter for iPhone</a>', 'in_reply_to_status_id': None, 'in_reply_to_status_id_str': None, 'in_reply_to_user_id': None, 'in_reply_to_user_id_str': None, 'in_reply_to_screen_name': None, 'user': {'id': 1012832569, 'id_str': '1012832569', 'name': 'らく', 'screen_name': 'kuni_sawa', 'location': '東京 吉祥寺 ', 'description': '', 'url': 'https://t.co/BJ4PbNd4dd', 'entities': {'url': {'urls': [{'url': 'https://t.co/BJ4PbNd4dd', 'expanded_url': 'http://Instagram.com/kuni_sawa_', 'display_url': 'Instagram.com/kuni_sawa_', 'indices': [0, 23]}]}, 'description': {'urls': []}}, 'protected': True, 'followers_count': 379, 'friends_count': 689, 'listed_count': 8, 'created_at': 'Sat Dec 15 09:10:47 +0000 2012', 'favourites_count': 11217, 'utc_offset': None, 'time_zone': None, 'geo_enabled': True, 'verified': False, 'statuses_count': 193, 'lang': None, 'contributors_enabled': False, 'is_translator': False, 'is_translation_enabled': False, 'profile_background_color': 'FFF04D', 'profile_background_image_url': 'http://abs.twimg.com/images/themes/theme19/bg.gif', 'profile_background_image_url_https': 'https://abs.twimg.com/images/themes/theme19/bg.gif', 'profile_background_tile': False, 'profile_image_url': 'http://pbs.twimg.com/profile_images/1042454531865337856/QBWf-pXB_normal.jpg', 'profile_image_url_https': 'https://pbs.twimg.com/profile_images/1042454531865337856/QBWf-pXB_normal.jpg', 'profile_banner_url': 'https://pbs.twimg.com/profile_banners/1012832569/1553099711', 'profile_link_color': '0099CC', 'profile_sidebar_border_color': 'FFF8AD', 'profile_sidebar_fill_color': 'F6FFD1', 'profile_text_color': '333333', 'profile_use_background_image': True, 'has_extended_profile': True, 'default_profile': False, 'default_profile_image': False, 'following': True, 'follow_request_sent': False, 'notifications': False, 'translator_type': 'none'}, 'geo': None, 'coordinates': None, 'place': None, 'contributors': None, 'is_quote_status': False, 'retweet_count': 0, 'favorite_count': 0, 'favorited': False, 'retweeted': False, 'lang': 'ja'}, created_at=datetime.datetime(2020, 10, 16, 20, 36, 10), id=1317202696961622016, id_str='1317202696961622016', text='寝れねぇ', truncated=False, entities={'hashtags': [], 'symbols': [], 'user_mentions': [], 'urls': []}, source='Twitter for iPhone', source_url='http://twitter.com/download/iphone', in_reply_to_status_id=None, in_reply_to_status_id_str=None, in_reply_to_user_id=None, in_reply_to_user_id_str=None, in_reply_to_screen_name=None, author=User(_api=<tweepy.api.API object at 0x7fb712398ef0>, _json={'id': 1012832569, 'id_str': '1012832569', 'name': 'らく', 'screen_name': 'kuni_sawa', 'location': '東京 吉祥寺 ', 'description': '', 'url': 'https://t.co/BJ4PbNd4dd', 'entities': {'url': {'urls': [{'url': 'https://t.co/BJ4PbNd4dd', 'expanded_url': 'http://Instagram.com/kuni_sawa_', 'display_url': 'Instagram.com/kuni_sawa_', 'indices': [0, 23]}]}, 'description': {'urls': []}}, 'protected': True, 'followers_count': 379, 'friends_count': 689, 'listed_count': 8, 'created_at': 'Sat Dec 15 09:10:47 +0000 2012', 'favourites_count': 11217, 'utc_offset': None, 'time_zone': None, 'geo_enabled': True, 'verified': False, 'statuses_count': 193, 'lang': None, 'contributors_enabled': False, 'is_translator': False, 'is_translation_enabled': False, 'profile_background_color': 'FFF04D', 'profile_background_image_url': 'http://abs.twimg.com/images/themes/theme19/bg.gif', 'profile_background_image_url_https': 'https://abs.twimg.com/images/themes/theme19/bg.gif', 'profile_background_tile': False, 'profile_image_url': 'http://pbs.twimg.com/profile_images/1042454531865337856/QBWf-pXB_normal.jpg', 'profile_image_url_https': 'https://pbs.twimg.com/profile_images/1042454531865337856/QBWf-pXB_normal.jpg', 'profile_banner_url': 'https://pbs.twimg.com/profile_banners/1012832569/1553099711', 'profile_link_color': '0099CC', 'profile_sidebar_border_color': 'FFF8AD', 'profile_sidebar_fill_color': 'F6FFD1', 'profile_text_color': '333333', 'profile_use_background_image': True, 'has_extended_profile': True, 'default_profile': False, 'default_profile_image': False, 'following': True, 'follow_request_sent': False, 'notifications': False, 'translator_type': 'none'}, id=1012832569, id_str='1012832569', name='らく', screen_name='kuni_sawa', location='東京 吉祥寺 ', description='', url='https://t.co/BJ4PbNd4dd', entities={'url': {'urls': [{'url': 'https://t.co/BJ4PbNd4dd', 'expanded_url': 'http://Instagram.com/kuni_sawa_', 'display_url': 'Instagram.com/kuni_sawa_', 'indices': [0, 23]}]}, 'description': {'urls': []}}, protected=True, followers_count=379, friends_count=689, listed_count=8, created_at=datetime.datetime(2012, 12, 15, 9, 10, 47), favourites_count=11217, utc_offset=None, time_zone=None, geo_enabled=True, verified=False, statuses_count=193, lang=None, contributors_enabled=False, is_translator=False, is_translation_enabled=False, profile_background_color='FFF04D', profile_background_image_url='http://abs.twimg.com/images/themes/theme19/bg.gif', profile_background_image_url_https='https://abs.twimg.com/images/themes/theme19/bg.gif', profile_background_tile=False, profile_image_url='http://pbs.twimg.com/profile_images/1042454531865337856/QBWf-pXB_normal.jpg', profile_image_url_https='https://pbs.twimg.com/profile_images/1042454531865337856/QBWf-pXB_normal.jpg', profile_banner_url='https://pbs.twimg.com/profile_banners/1012832569/1553099711', profile_link_color='0099CC', profile_sidebar_border_color='FFF8AD', profile_sidebar_fill_color='F6FFD1', profile_text_color='333333', profile_use_background_image=True, has_extended_profile=True, default_profile=False, default_profile_image=False, following=True, follow_request_sent=False, notifications=False, translator_type='none'), user=User(_api=<tweepy.api.API object at 0x7fb712398ef0>, _json={'id': 1012832569, 'id_str': '1012832569', 'name': 'らく', 'screen_name': 'kuni_sawa', 'location': '東京 吉祥寺 ', 'description': '', 'url': 'https://t.co/BJ4PbNd4dd', 'entities': {'url': {'urls': [{'url': 'https://t.co/BJ4PbNd4dd', 'expanded_url': 'http://Instagram.com/kuni_sawa_', 'display_url': 'Instagram.com/kuni_sawa_', 'indices': [0, 23]}]}, 'description': {'urls': []}}, 'protected': True, 'followers_count': 379, 'friends_count': 689, 'listed_count': 8, 'created_at': 'Sat Dec 15 09:10:47 +0000 2012', 'favourites_count': 11217, 'utc_offset': None, 'time_zone': None, 'geo_enabled': True, 'verified': False, 'statuses_count': 193, 'lang': None, 'contributors_enabled': False, 'is_translator': False, 'is_translation_enabled': False, 'profile_background_color': 'FFF04D', 'profile_background_image_url': 'http://abs.twimg.com/images/themes/theme19/bg.gif', 'profile_background_image_url_https': 'https://abs.twimg.com/images/themes/theme19/bg.gif', 'profile_background_tile': False, 'profile_image_url': 'http://pbs.twimg.com/profile_images/1042454531865337856/QBWf-pXB_normal.jpg', 'profile_image_url_https': 'https://pbs.twimg.com/profile_images/1042454531865337856/QBWf-pXB_normal.jpg', 'profile_banner_url': 'https://pbs.twimg.com/profile_banners/1012832569/1553099711', 'profile_link_color': '0099CC', 'profile_sidebar_border_color': 'FFF8AD', 'profile_sidebar_fill_color': 'F6FFD1', 'profile_text_color': '333333', 'profile_use_background_image': True, 'has_extended_profile': True, 'default_profile': False, 'default_profile_image': False, 'following': True, 'follow_request_sent': False, 'notifications': False, 'translator_type': 'none'}, id=1012832569, id_str='1012832569', name='らく', screen_name='kuni_sawa', location='東京 吉祥寺 ', description='', url='https://t.co/BJ4PbNd4dd', entities={'url': {'urls': [{'url': 'https://t.co/BJ4PbNd4dd', 'expanded_url': 'http://Instagram.com/kuni_sawa_', 'display_url': 'Instagram.com/kuni_sawa_', 'indices': [0, 23]}]}, 'description': {'urls': []}}, protected=True, followers_count=379, friends_count=689, listed_count=8, created_at=datetime.datetime(2012, 12, 15, 9, 10, 47), favourites_count=11217, utc_offset=None, time_zone=None, geo_enabled=True, verified=False, statuses_count=193, lang=None, contributors_enabled=False, is_translator=False, is_translation_enabled=False, profile_background_color='FFF04D', profile_background_image_url='http://abs.twimg.com/images/themes/theme19/bg.gif', profile_background_image_url_https='https://abs.twimg.com/images/themes/theme19/bg.gif', profile_background_tile=False, profile_image_url='http://pbs.twimg.com/profile_images/1042454531865337856/QBWf-pXB_normal.jpg', profile_image_url_https='https://pbs.twimg.com/profile_images/1042454531865337856/QBWf-pXB_normal.jpg', profile_banner_url='https://pbs.twimg.com/profile_banners/1012832569/1553099711', profile_link_color='0099CC', profile_sidebar_border_color='FFF8AD', profile_sidebar_fill_color='F6FFD1', profile_text_color='333333', profile_use_background_image=True, has_extended_profile=True, default_profile=False, default_profile_image=False, following=True, follow_request_sent=False, notifications=False, translator_type='none'), geo=None, coordinates=None, place=None, contributors=None, is_quote_status=False, retweet_count=0, favorite_count=0, favorited=False, retweeted=False, lang='ja')\n"
     ]
    }
   ],
   "source": [
    "for tweet in tweepy.Cursor(api.home_timeline).items():\n",
    "    print(tweet)\n",
    "    break"
   ]
  },
  {
   "cell_type": "code",
   "execution_count": 5,
   "metadata": {},
   "outputs": [
    {
     "data": {
      "text/plain": [
       "'寝れねぇ'"
      ]
     },
     "execution_count": 5,
     "metadata": {},
     "output_type": "execute_result"
    }
   ],
   "source": [
    "tweet.text"
   ]
  },
  {
   "cell_type": "code",
   "execution_count": 6,
   "metadata": {},
   "outputs": [
    {
     "data": {
      "text/plain": [
       "['__class__',\n",
       " '__delattr__',\n",
       " '__dict__',\n",
       " '__dir__',\n",
       " '__doc__',\n",
       " '__eq__',\n",
       " '__format__',\n",
       " '__ge__',\n",
       " '__getattribute__',\n",
       " '__getstate__',\n",
       " '__gt__',\n",
       " '__hash__',\n",
       " '__init__',\n",
       " '__init_subclass__',\n",
       " '__le__',\n",
       " '__lt__',\n",
       " '__module__',\n",
       " '__ne__',\n",
       " '__new__',\n",
       " '__reduce__',\n",
       " '__reduce_ex__',\n",
       " '__repr__',\n",
       " '__setattr__',\n",
       " '__sizeof__',\n",
       " '__str__',\n",
       " '__subclasshook__',\n",
       " '__weakref__',\n",
       " '_api',\n",
       " '_json',\n",
       " 'author',\n",
       " 'contributors',\n",
       " 'coordinates',\n",
       " 'created_at',\n",
       " 'destroy',\n",
       " 'entities',\n",
       " 'favorite',\n",
       " 'favorite_count',\n",
       " 'favorited',\n",
       " 'geo',\n",
       " 'id',\n",
       " 'id_str',\n",
       " 'in_reply_to_screen_name',\n",
       " 'in_reply_to_status_id',\n",
       " 'in_reply_to_status_id_str',\n",
       " 'in_reply_to_user_id',\n",
       " 'in_reply_to_user_id_str',\n",
       " 'is_quote_status',\n",
       " 'lang',\n",
       " 'parse',\n",
       " 'parse_list',\n",
       " 'place',\n",
       " 'retweet',\n",
       " 'retweet_count',\n",
       " 'retweeted',\n",
       " 'retweets',\n",
       " 'source',\n",
       " 'source_url',\n",
       " 'text',\n",
       " 'truncated',\n",
       " 'user']"
      ]
     },
     "execution_count": 6,
     "metadata": {},
     "output_type": "execute_result"
    }
   ],
   "source": [
    "dir(tweet)"
   ]
  },
  {
   "cell_type": "code",
   "execution_count": 7,
   "metadata": {},
   "outputs": [
    {
     "data": {
      "text/plain": [
       "1317202696961622016"
      ]
     },
     "execution_count": 7,
     "metadata": {},
     "output_type": "execute_result"
    }
   ],
   "source": [
    "tweet.id"
   ]
  },
  {
   "cell_type": "code",
   "execution_count": 8,
   "metadata": {},
   "outputs": [
    {
     "data": {
      "text/plain": [
       "datetime.datetime(2020, 10, 16, 20, 36, 10)"
      ]
     },
     "execution_count": 8,
     "metadata": {},
     "output_type": "execute_result"
    }
   ],
   "source": [
    "tweet.created_at"
   ]
  },
  {
   "cell_type": "code",
   "execution_count": 9,
   "metadata": {},
   "outputs": [
    {
     "data": {
      "text/plain": [
       "'寝れねぇ'"
      ]
     },
     "execution_count": 9,
     "metadata": {},
     "output_type": "execute_result"
    }
   ],
   "source": [
    "tweet.text"
   ]
  },
  {
   "cell_type": "code",
   "execution_count": 10,
   "metadata": {},
   "outputs": [],
   "source": [
    "tweet.geo"
   ]
  },
  {
   "cell_type": "code",
   "execution_count": 11,
   "metadata": {},
   "outputs": [
    {
     "data": {
      "text/plain": [
       "'http://twitter.com/download/iphone'"
      ]
     },
     "execution_count": 11,
     "metadata": {},
     "output_type": "execute_result"
    }
   ],
   "source": [
    "tweet.source_url"
   ]
  },
  {
   "cell_type": "code",
   "execution_count": 12,
   "metadata": {},
   "outputs": [
    {
     "data": {
      "text/plain": [
       "['__class__',\n",
       " '__delattr__',\n",
       " '__dict__',\n",
       " '__dir__',\n",
       " '__doc__',\n",
       " '__eq__',\n",
       " '__format__',\n",
       " '__ge__',\n",
       " '__getattribute__',\n",
       " '__getstate__',\n",
       " '__gt__',\n",
       " '__hash__',\n",
       " '__init__',\n",
       " '__init_subclass__',\n",
       " '__le__',\n",
       " '__lt__',\n",
       " '__module__',\n",
       " '__ne__',\n",
       " '__new__',\n",
       " '__reduce__',\n",
       " '__reduce_ex__',\n",
       " '__repr__',\n",
       " '__setattr__',\n",
       " '__sizeof__',\n",
       " '__str__',\n",
       " '__subclasshook__',\n",
       " '__weakref__',\n",
       " '_api',\n",
       " '_json',\n",
       " 'contributors_enabled',\n",
       " 'created_at',\n",
       " 'default_profile',\n",
       " 'default_profile_image',\n",
       " 'description',\n",
       " 'entities',\n",
       " 'favourites_count',\n",
       " 'follow',\n",
       " 'follow_request_sent',\n",
       " 'followers',\n",
       " 'followers_count',\n",
       " 'followers_ids',\n",
       " 'following',\n",
       " 'friends',\n",
       " 'friends_count',\n",
       " 'geo_enabled',\n",
       " 'has_extended_profile',\n",
       " 'id',\n",
       " 'id_str',\n",
       " 'is_translation_enabled',\n",
       " 'is_translator',\n",
       " 'lang',\n",
       " 'listed_count',\n",
       " 'lists',\n",
       " 'lists_memberships',\n",
       " 'lists_subscriptions',\n",
       " 'location',\n",
       " 'name',\n",
       " 'notifications',\n",
       " 'parse',\n",
       " 'parse_list',\n",
       " 'profile_background_color',\n",
       " 'profile_background_image_url',\n",
       " 'profile_background_image_url_https',\n",
       " 'profile_background_tile',\n",
       " 'profile_banner_url',\n",
       " 'profile_image_url',\n",
       " 'profile_image_url_https',\n",
       " 'profile_link_color',\n",
       " 'profile_sidebar_border_color',\n",
       " 'profile_sidebar_fill_color',\n",
       " 'profile_text_color',\n",
       " 'profile_use_background_image',\n",
       " 'protected',\n",
       " 'screen_name',\n",
       " 'statuses_count',\n",
       " 'time_zone',\n",
       " 'timeline',\n",
       " 'translator_type',\n",
       " 'unfollow',\n",
       " 'url',\n",
       " 'utc_offset',\n",
       " 'verified']"
      ]
     },
     "execution_count": 12,
     "metadata": {},
     "output_type": "execute_result"
    }
   ],
   "source": [
    "dir(tweet.user)"
   ]
  },
  {
   "cell_type": "code",
   "execution_count": 13,
   "metadata": {},
   "outputs": [
    {
     "data": {
      "text/plain": [
       "{'id': 1012832569,\n",
       " 'id_str': '1012832569',\n",
       " 'name': 'らく',\n",
       " 'screen_name': 'kuni_sawa',\n",
       " 'location': '東京 吉祥寺 ',\n",
       " 'description': '',\n",
       " 'url': 'https://t.co/BJ4PbNd4dd',\n",
       " 'entities': {'url': {'urls': [{'url': 'https://t.co/BJ4PbNd4dd',\n",
       "     'expanded_url': 'http://Instagram.com/kuni_sawa_',\n",
       "     'display_url': 'Instagram.com/kuni_sawa_',\n",
       "     'indices': [0, 23]}]},\n",
       "  'description': {'urls': []}},\n",
       " 'protected': True,\n",
       " 'followers_count': 379,\n",
       " 'friends_count': 689,\n",
       " 'listed_count': 8,\n",
       " 'created_at': 'Sat Dec 15 09:10:47 +0000 2012',\n",
       " 'favourites_count': 11217,\n",
       " 'utc_offset': None,\n",
       " 'time_zone': None,\n",
       " 'geo_enabled': True,\n",
       " 'verified': False,\n",
       " 'statuses_count': 193,\n",
       " 'lang': None,\n",
       " 'contributors_enabled': False,\n",
       " 'is_translator': False,\n",
       " 'is_translation_enabled': False,\n",
       " 'profile_background_color': 'FFF04D',\n",
       " 'profile_background_image_url': 'http://abs.twimg.com/images/themes/theme19/bg.gif',\n",
       " 'profile_background_image_url_https': 'https://abs.twimg.com/images/themes/theme19/bg.gif',\n",
       " 'profile_background_tile': False,\n",
       " 'profile_image_url': 'http://pbs.twimg.com/profile_images/1042454531865337856/QBWf-pXB_normal.jpg',\n",
       " 'profile_image_url_https': 'https://pbs.twimg.com/profile_images/1042454531865337856/QBWf-pXB_normal.jpg',\n",
       " 'profile_banner_url': 'https://pbs.twimg.com/profile_banners/1012832569/1553099711',\n",
       " 'profile_link_color': '0099CC',\n",
       " 'profile_sidebar_border_color': 'FFF8AD',\n",
       " 'profile_sidebar_fill_color': 'F6FFD1',\n",
       " 'profile_text_color': '333333',\n",
       " 'profile_use_background_image': True,\n",
       " 'has_extended_profile': True,\n",
       " 'default_profile': False,\n",
       " 'default_profile_image': False,\n",
       " 'following': True,\n",
       " 'follow_request_sent': False,\n",
       " 'notifications': False,\n",
       " 'translator_type': 'none'}"
      ]
     },
     "execution_count": 13,
     "metadata": {},
     "output_type": "execute_result"
    }
   ],
   "source": [
    "tweet.user._json"
   ]
  },
  {
   "cell_type": "code",
   "execution_count": null,
   "metadata": {},
   "outputs": [],
   "source": []
  }
 ],
 "metadata": {
  "kernelspec": {
   "display_name": "Python 3",
   "language": "python",
   "name": "python3"
  },
  "language_info": {
   "codemirror_mode": {
    "name": "ipython",
    "version": 3
   },
   "file_extension": ".py",
   "mimetype": "text/x-python",
   "name": "python",
   "nbconvert_exporter": "python",
   "pygments_lexer": "ipython3",
   "version": "3.6.9"
  }
 },
 "nbformat": 4,
 "nbformat_minor": 2
}
