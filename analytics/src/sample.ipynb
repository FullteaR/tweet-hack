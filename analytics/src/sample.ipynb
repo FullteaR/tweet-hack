{
 "cells": [
  {
   "cell_type": "code",
   "execution_count": 1,
   "metadata": {},
   "outputs": [],
   "source": [
    "import MySQLdb\n",
    "import pandas as pd"
   ]
  },
  {
   "cell_type": "code",
   "execution_count": 2,
   "metadata": {},
   "outputs": [],
   "source": [
    "import json\n",
    "\n",
    "infos = json.load(open(\"/credential.json\", \"r\"))\n",
    "\n",
    "consumer_key = infos[\"consumer_key\"]\n",
    "consumer_secret = infos[\"consumer_secret\"]\n",
    "access_token = infos[\"access_token\"]\n",
    "access_token_secret = infos[\"access_token_secret\"]"
   ]
  },
  {
   "cell_type": "code",
   "execution_count": 3,
   "metadata": {},
   "outputs": [
    {
     "data": {
      "text/plain": [
       "''"
      ]
     },
     "execution_count": 3,
     "metadata": {},
     "output_type": "execute_result"
    }
   ],
   "source": [
    "access_token_secret"
   ]
  },
  {
   "cell_type": "code",
   "execution_count": 2,
   "metadata": {},
   "outputs": [],
   "source": [
    "con = MySQLdb.connect(user=\"root\", passwd=\"root\",\n",
    "                               host=\"d2_db\", db=\"mysql\", use_unicode=True, charset=\"utf8mb4\")"
   ]
  },
  {
   "cell_type": "code",
   "execution_count": 3,
   "metadata": {},
   "outputs": [],
   "source": [
    "df = pd.read_sql(\"SELECT * FROM d2.tweet LIMIT 100\", con=con)"
   ]
  },
  {
   "cell_type": "code",
   "execution_count": 4,
   "metadata": {},
   "outputs": [
    {
     "data": {
      "text/html": [
       "<div>\n",
       "<style scoped>\n",
       "    .dataframe tbody tr th:only-of-type {\n",
       "        vertical-align: middle;\n",
       "    }\n",
       "\n",
       "    .dataframe tbody tr th {\n",
       "        vertical-align: top;\n",
       "    }\n",
       "\n",
       "    .dataframe thead th {\n",
       "        text-align: right;\n",
       "    }\n",
       "</style>\n",
       "<table border=\"1\" class=\"dataframe\">\n",
       "  <thead>\n",
       "    <tr style=\"text-align: right;\">\n",
       "      <th></th>\n",
       "      <th>tweet_id</th>\n",
       "      <th>created_at</th>\n",
       "      <th>text</th>\n",
       "      <th>user_id</th>\n",
       "      <th>tweet_json</th>\n",
       "    </tr>\n",
       "  </thead>\n",
       "  <tbody>\n",
       "    <tr>\n",
       "      <th>0</th>\n",
       "      <td>1327571776398757890</td>\n",
       "      <td>2020-11-14 11:19:11</td>\n",
       "      <td>リュウケンテリー相手にするのめっちゃ好きなんやけどスマブラーの間でテリーが割とガチ目に嫌われ...</td>\n",
       "      <td>1574636726</td>\n",
       "      <td>{\"created_at\": \"Sat Nov 14 11:19:11 +0000 2020...</td>\n",
       "    </tr>\n",
       "    <tr>\n",
       "      <th>1</th>\n",
       "      <td>1327571898671144961</td>\n",
       "      <td>2020-11-14 11:19:40</td>\n",
       "      <td>みんなからの匿名質問を募集中！\\n\\nこんな質問に答えてるよ\\n● 夏休みはなにしてますか？...</td>\n",
       "      <td>986542263273644033</td>\n",
       "      <td>{\"created_at\": \"Sat Nov 14 11:19:40 +0000 2020...</td>\n",
       "    </tr>\n",
       "    <tr>\n",
       "      <th>2</th>\n",
       "      <td>1327571906619314180</td>\n",
       "      <td>2020-11-14 11:19:42</td>\n",
       "      <td>葛飾区には実質上「常磐線」の駅が全く存在しなくて「JR・千代田直通線」の駅だけが存在する感じ...</td>\n",
       "      <td>1104667162940104704</td>\n",
       "      <td>{\"created_at\": \"Sat Nov 14 11:19:42 +0000 2020...</td>\n",
       "    </tr>\n",
       "    <tr>\n",
       "      <th>3</th>\n",
       "      <td>1327571965138276352</td>\n",
       "      <td>2020-11-14 11:19:56</td>\n",
       "      <td>RT @kurosaurus: ホントだ！\\nSeventeenの表紙ヤバいな…\\n\\nなん...</td>\n",
       "      <td>2532059880</td>\n",
       "      <td>{\"created_at\": \"Sat Nov 14 11:19:56 +0000 2020...</td>\n",
       "    </tr>\n",
       "    <tr>\n",
       "      <th>4</th>\n",
       "      <td>1327571975590449152</td>\n",
       "      <td>2020-11-14 11:19:58</td>\n",
       "      <td>テリーめちゃくちゃ良いキャラやと思うんやけどな（※個人の意見です）</td>\n",
       "      <td>1574636726</td>\n",
       "      <td>{\"created_at\": \"Sat Nov 14 11:19:58 +0000 2020...</td>\n",
       "    </tr>\n",
       "    <tr>\n",
       "      <th>...</th>\n",
       "      <td>...</td>\n",
       "      <td>...</td>\n",
       "      <td>...</td>\n",
       "      <td>...</td>\n",
       "      <td>...</td>\n",
       "    </tr>\n",
       "    <tr>\n",
       "      <th>95</th>\n",
       "      <td>1327579468806844416</td>\n",
       "      <td>2020-11-14 11:49:45</td>\n",
       "      <td>α7C、動画を撮る分には良いカメラらしい。</td>\n",
       "      <td>2787147900</td>\n",
       "      <td>{\"created_at\": \"Sat Nov 14 11:49:45 +0000 2020...</td>\n",
       "    </tr>\n",
       "    <tr>\n",
       "      <th>96</th>\n",
       "      <td>1327579588432596992</td>\n",
       "      <td>2020-11-14 11:50:13</td>\n",
       "      <td>コーヒー飲んでケーキ食った</td>\n",
       "      <td>1066672153104330752</td>\n",
       "      <td>{\"created_at\": \"Sat Nov 14 11:50:13 +0000 2020...</td>\n",
       "    </tr>\n",
       "    <tr>\n",
       "      <th>97</th>\n",
       "      <td>1327579626973978624</td>\n",
       "      <td>2020-11-14 11:50:22</td>\n",
       "      <td>@sagami_country ちなみに事故ったのではなく、(イノシシに)事故られたのです</td>\n",
       "      <td>3715330760</td>\n",
       "      <td>{\"created_at\": \"Sat Nov 14 11:50:22 +0000 2020...</td>\n",
       "    </tr>\n",
       "    <tr>\n",
       "      <th>98</th>\n",
       "      <td>1327579644413898752</td>\n",
       "      <td>2020-11-14 11:50:27</td>\n",
       "      <td>折れずに集中して臨みたいな</td>\n",
       "      <td>1066672153104330752</td>\n",
       "      <td>{\"created_at\": \"Sat Nov 14 11:50:27 +0000 2020...</td>\n",
       "    </tr>\n",
       "    <tr>\n",
       "      <th>99</th>\n",
       "      <td>1327579705747197953</td>\n",
       "      <td>2020-11-14 11:50:41</td>\n",
       "      <td>え、Macいつの間にCatalinaじゃなくなったん？？？</td>\n",
       "      <td>2787147900</td>\n",
       "      <td>{\"created_at\": \"Sat Nov 14 11:50:41 +0000 2020...</td>\n",
       "    </tr>\n",
       "  </tbody>\n",
       "</table>\n",
       "<p>100 rows × 5 columns</p>\n",
       "</div>"
      ],
      "text/plain": [
       "               tweet_id          created_at  \\\n",
       "0   1327571776398757890 2020-11-14 11:19:11   \n",
       "1   1327571898671144961 2020-11-14 11:19:40   \n",
       "2   1327571906619314180 2020-11-14 11:19:42   \n",
       "3   1327571965138276352 2020-11-14 11:19:56   \n",
       "4   1327571975590449152 2020-11-14 11:19:58   \n",
       "..                  ...                 ...   \n",
       "95  1327579468806844416 2020-11-14 11:49:45   \n",
       "96  1327579588432596992 2020-11-14 11:50:13   \n",
       "97  1327579626973978624 2020-11-14 11:50:22   \n",
       "98  1327579644413898752 2020-11-14 11:50:27   \n",
       "99  1327579705747197953 2020-11-14 11:50:41   \n",
       "\n",
       "                                                 text              user_id  \\\n",
       "0   リュウケンテリー相手にするのめっちゃ好きなんやけどスマブラーの間でテリーが割とガチ目に嫌われ...           1574636726   \n",
       "1   みんなからの匿名質問を募集中！\\n\\nこんな質問に答えてるよ\\n● 夏休みはなにしてますか？...   986542263273644033   \n",
       "2   葛飾区には実質上「常磐線」の駅が全く存在しなくて「JR・千代田直通線」の駅だけが存在する感じ...  1104667162940104704   \n",
       "3   RT @kurosaurus: ホントだ！\\nSeventeenの表紙ヤバいな…\\n\\nなん...           2532059880   \n",
       "4                   テリーめちゃくちゃ良いキャラやと思うんやけどな（※個人の意見です）           1574636726   \n",
       "..                                                ...                  ...   \n",
       "95                              α7C、動画を撮る分には良いカメラらしい。           2787147900   \n",
       "96                                      コーヒー飲んでケーキ食った  1066672153104330752   \n",
       "97      @sagami_country ちなみに事故ったのではなく、(イノシシに)事故られたのです           3715330760   \n",
       "98                                      折れずに集中して臨みたいな  1066672153104330752   \n",
       "99                      え、Macいつの間にCatalinaじゃなくなったん？？？           2787147900   \n",
       "\n",
       "                                           tweet_json  \n",
       "0   {\"created_at\": \"Sat Nov 14 11:19:11 +0000 2020...  \n",
       "1   {\"created_at\": \"Sat Nov 14 11:19:40 +0000 2020...  \n",
       "2   {\"created_at\": \"Sat Nov 14 11:19:42 +0000 2020...  \n",
       "3   {\"created_at\": \"Sat Nov 14 11:19:56 +0000 2020...  \n",
       "4   {\"created_at\": \"Sat Nov 14 11:19:58 +0000 2020...  \n",
       "..                                                ...  \n",
       "95  {\"created_at\": \"Sat Nov 14 11:49:45 +0000 2020...  \n",
       "96  {\"created_at\": \"Sat Nov 14 11:50:13 +0000 2020...  \n",
       "97  {\"created_at\": \"Sat Nov 14 11:50:22 +0000 2020...  \n",
       "98  {\"created_at\": \"Sat Nov 14 11:50:27 +0000 2020...  \n",
       "99  {\"created_at\": \"Sat Nov 14 11:50:41 +0000 2020...  \n",
       "\n",
       "[100 rows x 5 columns]"
      ]
     },
     "execution_count": 4,
     "metadata": {},
     "output_type": "execute_result"
    }
   ],
   "source": [
    "df"
   ]
  },
  {
   "cell_type": "code",
   "execution_count": null,
   "metadata": {},
   "outputs": [],
   "source": []
  }
 ],
 "metadata": {
  "kernelspec": {
   "display_name": "Python 3",
   "language": "python",
   "name": "python3"
  },
  "language_info": {
   "codemirror_mode": {
    "name": "ipython",
    "version": 3
   },
   "file_extension": ".py",
   "mimetype": "text/x-python",
   "name": "python",
   "nbconvert_exporter": "python",
   "pygments_lexer": "ipython3",
   "version": "3.8.1"
  }
 },
 "nbformat": 4,
 "nbformat_minor": 4
}
