{
 "cells": [
  {
   "cell_type": "code",
   "execution_count": null,
   "metadata": {},
   "outputs": [],
   "source": [
    "import MySQLdb\n",
    "import pandas as pd\n",
    "import tweepy\n",
    "from tqdm.auto import tqdm\n",
    "from envs import *"
   ]
  },
  {
   "cell_type": "code",
   "execution_count": null,
   "metadata": {},
   "outputs": [],
   "source": [
    "con = MySQLdb.connect(user=db_username, passwd=db_pass,\n",
    "                               host=db_host, db=\"mysql\", use_unicode=True, charset=\"utf8mb4\")\n",
    "auth = tweepy.OAuthHandler(consumer_key, consumer_secret)\n",
    "auth.set_access_token(access_token, access_token_secret)\n",
    "api = tweepy.API(auth)"
   ]
  },
  {
   "cell_type": "code",
   "execution_count": null,
   "metadata": {},
   "outputs": [],
   "source": [
    "def getTweet(user_id, api, since_id):\n",
    "    tweet_ids=[]\n",
    "    created_ats=[]\n",
    "    texts=[]\n",
    "    tweet_jsons=[]\n",
    "    for tweet in tweepy.Cursor(api.user_timeline, since_id=since_id, id=user_id).items():\n",
    "            tweet_id = tweet.id\n",
    "            created_at = tweet.created_at\n",
    "            text = tweet.text\n",
    "            tweet_json = json.dumps(tweet._json, ensure_ascii=False)\n",
    "            tweet_ids.append(tweet_id)\n",
    "            created_ats.append(created_at)\n",
    "            texts.append(text)\n",
    "            tweet_jsons.append(tweet_json)\n",
    "    df = pd.DataFrame()\n",
    "    df[\"tweet_id\"] = tweet_ids\n",
    "    df[\"created_at\"] = created_ats\n",
    "    df[\"text\"]=texts\n",
    "    df[\"user_id\"]=user_id\n",
    "    df[\"tweet_json\"]=tweet_jsons\n",
    "    return df"
   ]
  },
  {
   "cell_type": "code",
   "execution_count": null,
   "metadata": {},
   "outputs": [],
   "source": [
    "def getDeleteTweet(user_id, con, api):\n",
    "    user = api.get_user(user_id)\n",
    "    tl_all = pd.read_sql(\"SELECT * FROM d2.tweet WHERE user_id={0}\".format(user.id),  con=con)\n",
    "    if tl_all.shape[0]==0:\n",
    "        return tl_all\n",
    "    since_id = tl_all.iloc[0].tweet_id-1\n",
    "    tl_now = getTweet(user.id, api, since_id=since_id)\n",
    "    tweet_ids = tl_now[\"tweet_id\"].values\n",
    "    deleted = tl_all[\"tweet_id\"].apply(lambda w: w in tweet_ids)\n",
    "    return tl_all[deleted==False]\n"
   ]
  },
  {
   "cell_type": "code",
   "execution_count": null,
   "metadata": {},
   "outputs": [],
   "source": [
    "for t in getDeleteTweet(\"rikuta0811_dash\",con,api).text:\n",
    "    print(t)\n",
    "    print()"
   ]
  },
  {
   "cell_type": "code",
   "execution_count": null,
   "metadata": {},
   "outputs": [],
   "source": []
  }
 ],
 "metadata": {
  "kernelspec": {
   "display_name": "Python 3",
   "language": "python",
   "name": "python3"
  },
  "language_info": {
   "codemirror_mode": {
    "name": "ipython",
    "version": 3
   },
   "file_extension": ".py",
   "mimetype": "text/x-python",
   "name": "python",
   "nbconvert_exporter": "python",
   "pygments_lexer": "ipython3",
   "version": "3.8.1"
  }
 },
 "nbformat": 4,
 "nbformat_minor": 4
}
