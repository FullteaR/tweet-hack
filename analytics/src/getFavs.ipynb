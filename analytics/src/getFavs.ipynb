{
 "cells": [
  {
   "cell_type": "code",
   "execution_count": null,
   "metadata": {},
   "outputs": [],
   "source": [
    "import tweepy\n",
    "import pandas as pd\n",
    "import json\n",
    "import time"
   ]
  },
  {
   "cell_type": "code",
   "execution_count": null,
   "metadata": {},
   "outputs": [],
   "source": [
    "consumer_key=\"SIJrRPlLOg7DELHvFb1zIiNVy\"\n",
    "consumer_secret=\"v8lLcwlrg9k3rJtMkFKkrVfBVlPAWV9N8cyBCEHwMy3GdwLjnq\"\n",
    "access_token=\"707943563229704192-AJuv9gySO5KYnnDQU7QTS6Es35lfm6M\"\n",
    "access_token_secret=\"kIM0HzGjLWLsGXc8hgcCACMDWHIPkqk5rB9wjHER3KmRb\""
   ]
  },
  {
   "cell_type": "code",
   "execution_count": null,
   "metadata": {},
   "outputs": [],
   "source": [
    "auth = tweepy.OAuthHandler(consumer_key, consumer_secret)\n",
    "auth.set_access_token(access_token, access_token_secret)\n",
    "api = tweepy.API(auth)"
   ]
  },
  {
   "cell_type": "code",
   "execution_count": null,
   "metadata": {},
   "outputs": [],
   "source": [
    "df = pd.DataFrame(columns=[\"tweet_id\",\"created_at\",\"text\",\"user_id\",\"tweet_json\"])"
   ]
  },
  {
   "cell_type": "code",
   "execution_count": null,
   "metadata": {},
   "outputs": [],
   "source": [
    "while True:\n",
    "    try:\n",
    "        for tweet in tweepy.Cursor(api.favorites).items():\n",
    "            tweet_id = tweet.id\n",
    "            created_at = tweet.created_at\n",
    "            print(created_at)\n",
    "            text = tweet.text\n",
    "            user_id = tweet.user.id\n",
    "            tweet_json = json.dumps(tweet._json, ensure_ascii=False)\n",
    "            s = pd.Series([tweet_id, created_at, text, user_id, tweet_json], index=df.columns)\n",
    "            df = df.append(s, ignore_index=True)\n",
    "    except Exception as e:\n",
    "        print(e)\n",
    "        time.sleep(60*5)"
   ]
  },
  {
   "cell_type": "code",
   "execution_count": null,
   "metadata": {},
   "outputs": [],
   "source": [
    "df"
   ]
  },
  {
   "cell_type": "code",
   "execution_count": null,
   "metadata": {},
   "outputs": [],
   "source": [
    "df.to_pickle(\"fav.pkl\", protocol=3)"
   ]
  },
  {
   "cell_type": "code",
   "execution_count": null,
   "metadata": {},
   "outputs": [],
   "source": []
  }
 ],
 "metadata": {
  "kernelspec": {
   "display_name": "Python 3",
   "language": "python",
   "name": "python3"
  },
  "language_info": {
   "codemirror_mode": {
    "name": "ipython",
    "version": 3
   },
   "file_extension": ".py",
   "mimetype": "text/x-python",
   "name": "python",
   "nbconvert_exporter": "python",
   "pygments_lexer": "ipython3",
   "version": "3.8.1"
  }
 },
 "nbformat": 4,
 "nbformat_minor": 4
}
