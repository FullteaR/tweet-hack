{
 "cells": [
  {
   "cell_type": "code",
   "execution_count": null,
   "id": "confident-auckland",
   "metadata": {},
   "outputs": [],
   "source": [
    "import pandas as pd\n",
    "import MySQLdb\n",
    "import MeCab\n",
    "import re\n",
    "import requests\n",
    "from bs4 import BeautifulSoup\n",
    "import tweepy\n",
    "import json\n",
    "from tqdm.auto import tqdm\n",
    "import time\n",
    "from sentence_transformers import SentenceTransformer\n",
    "import xgboost as xgb\n",
    "import pickle\n",
    "from datetime import datetime, timedelta\n",
    "import numpy as np\n",
    "import pickle\n",
    "import xgboost as xgb"
   ]
  },
  {
   "cell_type": "code",
   "execution_count": null,
   "id": "continental-pregnancy",
   "metadata": {},
   "outputs": [],
   "source": [
    "infos = json.load(open(\"/credential.json\", \"r\"))\n",
    "\n",
    "consumer_key = infos[\"consumer_key\"]\n",
    "consumer_secret = infos[\"consumer_secret\"]\n",
    "access_token = infos[\"access_token\"]\n",
    "access_token_secret = infos[\"access_token_secret\"]\n",
    "CHANNEL_ACCESS_TOKEN = infos[\"CHANNEL_ACCESS_TOKEN\"]\n",
    "me = infos[\"me\"]"
   ]
  },
  {
   "cell_type": "code",
   "execution_count": null,
   "id": "native-festival",
   "metadata": {},
   "outputs": [],
   "source": [
    "con = MySQLdb.connect(user=\"root\", passwd=\"root\",\n",
    "                               host=\"d2_db\", db=\"mysql\", use_unicode=True, charset=\"utf8mb4\")\n",
    "\n",
    "#cmd = 'echo `mecab-config --dicdir`\"/mecab-ipadic-neologd\"'\n",
    "#path = (subprocess.Popen(cmd, stdout=subprocess.PIPE,\n",
    "#                           shell=True).communicate()[0]).decode('utf-8')\n",
    "m = MeCab.Tagger(\"-Owakati\")#.format(path))\n",
    "model_path = \"/training_bert_japanese\"\n",
    "model = SentenceTransformer(model_path, show_progress_bar=False)\n",
    "auth = tweepy.OAuthHandler(consumer_key, consumer_secret)\n",
    "auth.set_access_token(access_token, access_token_secret)\n",
    "api = tweepy.API(auth)\n",
    "tqdm.pandas()\n",
    "url = re.compile(\"https?://[0-9a-zA-Z-._~?&=/]+\")"
   ]
  },
  {
   "cell_type": "code",
   "execution_count": null,
   "id": "alleged-little",
   "metadata": {},
   "outputs": [],
   "source": [
    "def sendLINE(text, to=me, CHANNEL_ACCESS_TOKEN=CHANNEL_ACCESS_TOKEN):\n",
    "    url = \"https://api.line.me/v2/bot/message/push\"\n",
    "    headers = {\n",
    "        \"Content-Type\": \"application/json; charset=UTF-8\",\n",
    "        'Authorization': 'Bearer ' + CHANNEL_ACCESS_TOKEN\n",
    "    }\n",
    "    data = {\"messages\":[{\"text\": text,\"type\":\"text\"}],\"to\":to}\n",
    "    return requests.post(url, data=json.dumps(data), headers=headers).text"
   ]
  },
  {
   "cell_type": "code",
   "execution_count": null,
   "id": "twelve-march",
   "metadata": {},
   "outputs": [],
   "source": [
    "df_tweet = pd.read_sql(\"SELECT * FROM d2.tweet\", con=con)\n",
    "df_tweet = df_tweet[df_tweet[\"created_at\"]>datetime.now()-timedelta(1)]"
   ]
  },
  {
   "cell_type": "code",
   "execution_count": null,
   "id": "behavioral-henry",
   "metadata": {},
   "outputs": [],
   "source": [
    "bst = pickle.load(open(\"/model/bst_fav.pickle\",\"rb\"))"
   ]
  },
  {
   "cell_type": "code",
   "execution_count": null,
   "id": "rotary-spell",
   "metadata": {},
   "outputs": [],
   "source": [
    "sendLINE(\"本日ツイートされた重要なツイートです\")\n",
    "for text, uid in tqdm(zip(df_tweet[\"text\"], df_tweet[\"user_id\"]), total=df_tweet.shape[0]):\n",
    "    s = url.search(text)\n",
    "    if s:\n",
    "        try:\n",
    "            url_tweet = s.group(0)\n",
    "            with requests.Session() as s:\n",
    "                response = s.get(url_tweet)\n",
    "                if \"https://www.youtube.com\" in response.url:\n",
    "                        continue\n",
    "                soup = BeautifulSoup(response.content, \"html.parser\")\n",
    "                #text = re.replace(\"\\s+\",\" \",text)\n",
    "                #text = re.replace(\"\\n+\",\"\\n\",text)\n",
    "                if \"セキュリティ\" in soup.__repr__() or \"security\" in soup.__repr__():\n",
    "                    message=\"{0}(@{1})さんのツイートです\\n\\n{2}\"\n",
    "                    user=api.get_user(uid)\n",
    "                    sendLINE(message.format(user.name, user.screen_name, text))\n",
    "        except:\n",
    "            pass\n",
    "\n",
    "vectors = np.asarray(model.encode(df_tweet.text))\n",
    "y_pred =bst.predict(vectors)\n",
    "\n",
    "for pred, uid in tqdm(zip(y_pred, df_tweet[\"user_id\"]), total=df_tweet.shape[0]):\n",
    "    if pred>0.5:\n",
    "        message=\"{0}(@{1})さんのツイートです\\n\\n{2}\"\n",
    "        user=api.get_user(uid)\n",
    "        sendLINE(message.format(user.name, user.screen_name, text))"
   ]
  }
 ],
 "metadata": {
  "kernelspec": {
   "display_name": "Python 3",
   "language": "python",
   "name": "python3"
  },
  "language_info": {
   "codemirror_mode": {
    "name": "ipython",
    "version": 3
   },
   "file_extension": ".py",
   "mimetype": "text/x-python",
   "name": "python",
   "nbconvert_exporter": "python",
   "pygments_lexer": "ipython3",
   "version": "3.8.1"
  }
 },
 "nbformat": 4,
 "nbformat_minor": 5
}
