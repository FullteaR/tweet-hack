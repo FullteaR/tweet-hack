{
 "cells": [
  {
   "cell_type": "code",
   "execution_count": 5,
   "metadata": {},
   "outputs": [],
   "source": [
    "import pandas as pd\n",
    "from sklearn.model_selection import train_test_split\n",
    "from sklearn.preprocessing import LabelEncoder\n",
    "from tqdm.auto import  tqdm\n",
    "from pyknp import Juman"
   ]
  },
  {
   "cell_type": "code",
   "execution_count": 2,
   "metadata": {},
   "outputs": [
    {
     "name": "stderr",
     "output_type": "stream",
     "text": [
      "/opt/conda/lib/python3.8/site-packages/tqdm/std.py:668: FutureWarning: The Panel class is removed from pandas. Accessing it from the top-level namespace will also be removed in the next version\n",
      "  from pandas import Panel\n"
     ]
    }
   ],
   "source": [
    "tqdm.pandas()"
   ]
  },
  {
   "cell_type": "code",
   "execution_count": 3,
   "metadata": {},
   "outputs": [],
   "source": [
    "df = pd.read_pickle(\"tweet.pkl\")"
   ]
  },
  {
   "cell_type": "code",
   "execution_count": 4,
   "metadata": {},
   "outputs": [
    {
     "data": {
      "text/html": [
       "<div>\n",
       "<style scoped>\n",
       "    .dataframe tbody tr th:only-of-type {\n",
       "        vertical-align: middle;\n",
       "    }\n",
       "\n",
       "    .dataframe tbody tr th {\n",
       "        vertical-align: top;\n",
       "    }\n",
       "\n",
       "    .dataframe thead th {\n",
       "        text-align: right;\n",
       "    }\n",
       "</style>\n",
       "<table border=\"1\" class=\"dataframe\">\n",
       "  <thead>\n",
       "    <tr style=\"text-align: right;\">\n",
       "      <th></th>\n",
       "      <th>tweet_id</th>\n",
       "      <th>created_at</th>\n",
       "      <th>text</th>\n",
       "      <th>user_id</th>\n",
       "      <th>tweet_json</th>\n",
       "    </tr>\n",
       "  </thead>\n",
       "  <tbody>\n",
       "    <tr>\n",
       "      <th>0</th>\n",
       "      <td>1327571776398757890</td>\n",
       "      <td>2020-11-14 11:19:11</td>\n",
       "      <td>リュウケンテリー相手にするのめっちゃ好きなんやけどスマブラーの間でテリーが割とガチ目に嫌われ...</td>\n",
       "      <td>1574636726</td>\n",
       "      <td>{\"created_at\": \"Sat Nov 14 11:19:11 +0000 2020...</td>\n",
       "    </tr>\n",
       "    <tr>\n",
       "      <th>1</th>\n",
       "      <td>1327571898671144961</td>\n",
       "      <td>2020-11-14 11:19:40</td>\n",
       "      <td>みんなからの匿名質問を募集中！\\n\\nこんな質問に答えてるよ\\n● 夏休みはなにしてますか？...</td>\n",
       "      <td>986542263273644033</td>\n",
       "      <td>{\"created_at\": \"Sat Nov 14 11:19:40 +0000 2020...</td>\n",
       "    </tr>\n",
       "    <tr>\n",
       "      <th>2</th>\n",
       "      <td>1327571906619314180</td>\n",
       "      <td>2020-11-14 11:19:42</td>\n",
       "      <td>葛飾区には実質上「常磐線」の駅が全く存在しなくて「JR・千代田直通線」の駅だけが存在する感じ...</td>\n",
       "      <td>1104667162940104704</td>\n",
       "      <td>{\"created_at\": \"Sat Nov 14 11:19:42 +0000 2020...</td>\n",
       "    </tr>\n",
       "    <tr>\n",
       "      <th>3</th>\n",
       "      <td>1327571965138276352</td>\n",
       "      <td>2020-11-14 11:19:56</td>\n",
       "      <td>RT @kurosaurus: ホントだ！\\nSeventeenの表紙ヤバいな…\\n\\nなん...</td>\n",
       "      <td>2532059880</td>\n",
       "      <td>{\"created_at\": \"Sat Nov 14 11:19:56 +0000 2020...</td>\n",
       "    </tr>\n",
       "    <tr>\n",
       "      <th>4</th>\n",
       "      <td>1327571975590449152</td>\n",
       "      <td>2020-11-14 11:19:58</td>\n",
       "      <td>テリーめちゃくちゃ良いキャラやと思うんやけどな（※個人の意見です）</td>\n",
       "      <td>1574636726</td>\n",
       "      <td>{\"created_at\": \"Sat Nov 14 11:19:58 +0000 2020...</td>\n",
       "    </tr>\n",
       "    <tr>\n",
       "      <th>...</th>\n",
       "      <td>...</td>\n",
       "      <td>...</td>\n",
       "      <td>...</td>\n",
       "      <td>...</td>\n",
       "      <td>...</td>\n",
       "    </tr>\n",
       "    <tr>\n",
       "      <th>58965</th>\n",
       "      <td>1336289772990394370</td>\n",
       "      <td>2020-12-08 12:41:23</td>\n",
       "      <td>なぜ１試合目から味方だけにチャーを引いてしまうのですか？</td>\n",
       "      <td>2787147900</td>\n",
       "      <td>{\"created_at\": \"Tue Dec 08 12:41:23 +0000 2020...</td>\n",
       "    </tr>\n",
       "    <tr>\n",
       "      <th>58966</th>\n",
       "      <td>1336289803675992066</td>\n",
       "      <td>2020-12-08 12:41:30</td>\n",
       "      <td>RT @_TAKANOHARA_: 東京ー大阪が2.5時間から1時間になるのを「所要時間がほ...</td>\n",
       "      <td>1019569328</td>\n",
       "      <td>{\"created_at\": \"Tue Dec 08 12:41:30 +0000 2020...</td>\n",
       "    </tr>\n",
       "    <tr>\n",
       "      <th>58967</th>\n",
       "      <td>1336289881010552833</td>\n",
       "      <td>2020-12-08 12:41:49</td>\n",
       "      <td>RT @Alpaca_opo: 推しはロッカーに閉まっちゃおうね…（しまっちゃうおじさん） ...</td>\n",
       "      <td>1019569328</td>\n",
       "      <td>{\"created_at\": \"Tue Dec 08 12:41:49 +0000 2020...</td>\n",
       "    </tr>\n",
       "    <tr>\n",
       "      <th>58968</th>\n",
       "      <td>1336289887637577730</td>\n",
       "      <td>2020-12-08 12:41:50</td>\n",
       "      <td>RT @xh_9h: 鬼滅の刃の歌と、香水の歌は、自分からは、聞いた事がないのに、聞きすぎて...</td>\n",
       "      <td>1212605951129243648</td>\n",
       "      <td>{\"created_at\": \"Tue Dec 08 12:41:50 +0000 2020...</td>\n",
       "    </tr>\n",
       "    <tr>\n",
       "      <th>58969</th>\n",
       "      <td>1336289901910708225</td>\n",
       "      <td>2020-12-08 12:41:54</td>\n",
       "      <td>退勤時間が読めないの普通に渋い 今日も21時に閉まる店行こうとしてたら行けなかった</td>\n",
       "      <td>826843865600528384</td>\n",
       "      <td>{\"created_at\": \"Tue Dec 08 12:41:54 +0000 2020...</td>\n",
       "    </tr>\n",
       "  </tbody>\n",
       "</table>\n",
       "<p>58970 rows × 5 columns</p>\n",
       "</div>"
      ],
      "text/plain": [
       "                  tweet_id          created_at  \\\n",
       "0      1327571776398757890 2020-11-14 11:19:11   \n",
       "1      1327571898671144961 2020-11-14 11:19:40   \n",
       "2      1327571906619314180 2020-11-14 11:19:42   \n",
       "3      1327571965138276352 2020-11-14 11:19:56   \n",
       "4      1327571975590449152 2020-11-14 11:19:58   \n",
       "...                    ...                 ...   \n",
       "58965  1336289772990394370 2020-12-08 12:41:23   \n",
       "58966  1336289803675992066 2020-12-08 12:41:30   \n",
       "58967  1336289881010552833 2020-12-08 12:41:49   \n",
       "58968  1336289887637577730 2020-12-08 12:41:50   \n",
       "58969  1336289901910708225 2020-12-08 12:41:54   \n",
       "\n",
       "                                                    text              user_id  \\\n",
       "0      リュウケンテリー相手にするのめっちゃ好きなんやけどスマブラーの間でテリーが割とガチ目に嫌われ...           1574636726   \n",
       "1      みんなからの匿名質問を募集中！\\n\\nこんな質問に答えてるよ\\n● 夏休みはなにしてますか？...   986542263273644033   \n",
       "2      葛飾区には実質上「常磐線」の駅が全く存在しなくて「JR・千代田直通線」の駅だけが存在する感じ...  1104667162940104704   \n",
       "3      RT @kurosaurus: ホントだ！\\nSeventeenの表紙ヤバいな…\\n\\nなん...           2532059880   \n",
       "4                      テリーめちゃくちゃ良いキャラやと思うんやけどな（※個人の意見です）           1574636726   \n",
       "...                                                  ...                  ...   \n",
       "58965                       なぜ１試合目から味方だけにチャーを引いてしまうのですか？           2787147900   \n",
       "58966  RT @_TAKANOHARA_: 東京ー大阪が2.5時間から1時間になるのを「所要時間がほ...           1019569328   \n",
       "58967  RT @Alpaca_opo: 推しはロッカーに閉まっちゃおうね…（しまっちゃうおじさん） ...           1019569328   \n",
       "58968  RT @xh_9h: 鬼滅の刃の歌と、香水の歌は、自分からは、聞いた事がないのに、聞きすぎて...  1212605951129243648   \n",
       "58969          退勤時間が読めないの普通に渋い 今日も21時に閉まる店行こうとしてたら行けなかった   826843865600528384   \n",
       "\n",
       "                                              tweet_json  \n",
       "0      {\"created_at\": \"Sat Nov 14 11:19:11 +0000 2020...  \n",
       "1      {\"created_at\": \"Sat Nov 14 11:19:40 +0000 2020...  \n",
       "2      {\"created_at\": \"Sat Nov 14 11:19:42 +0000 2020...  \n",
       "3      {\"created_at\": \"Sat Nov 14 11:19:56 +0000 2020...  \n",
       "4      {\"created_at\": \"Sat Nov 14 11:19:58 +0000 2020...  \n",
       "...                                                  ...  \n",
       "58965  {\"created_at\": \"Tue Dec 08 12:41:23 +0000 2020...  \n",
       "58966  {\"created_at\": \"Tue Dec 08 12:41:30 +0000 2020...  \n",
       "58967  {\"created_at\": \"Tue Dec 08 12:41:49 +0000 2020...  \n",
       "58968  {\"created_at\": \"Tue Dec 08 12:41:50 +0000 2020...  \n",
       "58969  {\"created_at\": \"Tue Dec 08 12:41:54 +0000 2020...  \n",
       "\n",
       "[58970 rows x 5 columns]"
      ]
     },
     "execution_count": 4,
     "metadata": {},
     "output_type": "execute_result"
    }
   ],
   "source": [
    "df"
   ]
  },
  {
   "cell_type": "code",
   "execution_count": 7,
   "metadata": {},
   "outputs": [
    {
     "ename": "Exception",
     "evalue": "Can't find JUMAN command: jumanpp",
     "output_type": "error",
     "traceback": [
      "\u001b[0;31m---------------------------------------------------------------------------\u001b[0m",
      "\u001b[0;31mException\u001b[0m                                 Traceback (most recent call last)",
      "\u001b[0;32m<ipython-input-7-b64d2b72af0e>\u001b[0m in \u001b[0;36m<module>\u001b[0;34m\u001b[0m\n\u001b[0;32m----> 1\u001b[0;31m \u001b[0mjumanpp\u001b[0m \u001b[0;34m=\u001b[0m \u001b[0mJuman\u001b[0m\u001b[0;34m(\u001b[0m\u001b[0;34m)\u001b[0m\u001b[0;34m\u001b[0m\u001b[0;34m\u001b[0m\u001b[0m\n\u001b[0m",
      "\u001b[0;32m/opt/conda/lib/python3.8/site-packages/pyknp/juman/juman.py\u001b[0m in \u001b[0;36m__init__\u001b[0;34m(self, command, server, port, timeout, option, rcfile, ignorepattern, pattern, jumanpp)\u001b[0m\n\u001b[1;32m     45\u001b[0m             \u001b[0;32mraise\u001b[0m \u001b[0mException\u001b[0m\u001b[0;34m(\u001b[0m\u001b[0;34m\"Can't read rcfile (%s)!\"\u001b[0m \u001b[0;34m%\u001b[0m \u001b[0mself\u001b[0m\u001b[0;34m.\u001b[0m\u001b[0mrcfile\u001b[0m\u001b[0;34m)\u001b[0m\u001b[0;34m\u001b[0m\u001b[0;34m\u001b[0m\u001b[0m\n\u001b[1;32m     46\u001b[0m         \u001b[0;32mif\u001b[0m \u001b[0mdistutils\u001b[0m\u001b[0;34m.\u001b[0m\u001b[0mspawn\u001b[0m\u001b[0;34m.\u001b[0m\u001b[0mfind_executable\u001b[0m\u001b[0;34m(\u001b[0m\u001b[0mself\u001b[0m\u001b[0;34m.\u001b[0m\u001b[0mcommand\u001b[0m\u001b[0;34m)\u001b[0m \u001b[0;32mis\u001b[0m \u001b[0;32mNone\u001b[0m\u001b[0;34m:\u001b[0m\u001b[0;34m\u001b[0m\u001b[0;34m\u001b[0m\u001b[0m\n\u001b[0;32m---> 47\u001b[0;31m             \u001b[0;32mraise\u001b[0m \u001b[0mException\u001b[0m\u001b[0;34m(\u001b[0m\u001b[0;34m\"Can't find JUMAN command: %s\"\u001b[0m \u001b[0;34m%\u001b[0m \u001b[0mself\u001b[0m\u001b[0;34m.\u001b[0m\u001b[0mcommand\u001b[0m\u001b[0;34m)\u001b[0m\u001b[0;34m\u001b[0m\u001b[0;34m\u001b[0m\u001b[0m\n\u001b[0m\u001b[1;32m     48\u001b[0m \u001b[0;34m\u001b[0m\u001b[0m\n\u001b[1;32m     49\u001b[0m     \u001b[0;32mdef\u001b[0m \u001b[0mjuman_lines\u001b[0m\u001b[0;34m(\u001b[0m\u001b[0mself\u001b[0m\u001b[0;34m,\u001b[0m \u001b[0minput_str\u001b[0m\u001b[0;34m)\u001b[0m\u001b[0;34m:\u001b[0m\u001b[0;34m\u001b[0m\u001b[0;34m\u001b[0m\u001b[0m\n",
      "\u001b[0;31mException\u001b[0m: Can't find JUMAN command: jumanpp"
     ]
    }
   ],
   "source": [
    "jumanpp = Juman()"
   ]
  },
  {
   "cell_type": "code",
   "execution_count": 6,
   "metadata": {},
   "outputs": [
    {
     "data": {
      "text/plain": [
       "'リュウケンテリー相手にするのめっちゃ好きなんやけどスマブラーの間でテリーが割とガチ目に嫌われとるのがあんま理由わからん'"
      ]
     },
     "execution_count": 6,
     "metadata": {},
     "output_type": "execute_result"
    }
   ],
   "source": [
    "df.text[0]"
   ]
  },
  {
   "cell_type": "code",
   "execution_count": null,
   "metadata": {},
   "outputs": [],
   "source": []
  }
 ],
 "metadata": {
  "kernelspec": {
   "display_name": "Python 3",
   "language": "python",
   "name": "python3"
  },
  "language_info": {
   "codemirror_mode": {
    "name": "ipython",
    "version": 3
   },
   "file_extension": ".py",
   "mimetype": "text/x-python",
   "name": "python",
   "nbconvert_exporter": "python",
   "pygments_lexer": "ipython3",
   "version": "3.8.3"
  }
 },
 "nbformat": 4,
 "nbformat_minor": 4
}
